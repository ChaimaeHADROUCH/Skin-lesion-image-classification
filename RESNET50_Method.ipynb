{
 "cells": [
  {
   "cell_type": "markdown",
   "metadata": {
    "id": "mKT_Gni5qfV1"
   },
   "source": [
    "# Transfer Learning et Fine-Tuning : Skin lesion image classification"
   ]
  },
  {
   "cell_type": "markdown",
   "metadata": {
    "id": "AL235hmURJmS"
   },
   "source": [
    "Groupe : \n",
    "    \n",
    "        *  HADROUCH Chaimae  \n",
    "        *  AIT-AHMAD Kaoutar \n",
    "\n",
    "\n",
    "         "
   ]
  },
  {
   "cell_type": "markdown",
   "metadata": {
    "id": "3Vj5bqI46nrg"
   },
   "source": [
    "L'objectif du projet est de réaliser un systeme de classification composé de plusieurs étapes. Il y a plusieurs méthodes soit construire un CNN à partir de zéro, soit adopter un encodeur comme le ResNet ou le VGG qui ont plusieurs types."
   ]
  },
  {
   "cell_type": "markdown",
   "metadata": {
    "id": "JScPyl2zUTEA"
   },
   "source": [
    "Pour réaliser ce projet, nous avons adopté le ResNet-50 qui est une architecture de réseau convolutif donnant des très bonnes performances et largement utilisé dans le domaine de la vision par ordinateur et Deep Learning. Il comporte 48 couches de convolution avec 1 couche MaxPool et 1 couche Average Pool. Il comporte 3.8 x 10^9 opérations en virgule flottante."
   ]
  },
  {
   "cell_type": "code",
   "execution_count": 1,
   "metadata": {
    "colab": {
     "base_uri": "https://localhost:8080/"
    },
    "executionInfo": {
     "elapsed": 24200,
     "status": "ok",
     "timestamp": 1646580108434,
     "user": {
      "displayName": "Kaoutar Ait Ahmad",
      "photoUrl": "https://lh3.googleusercontent.com/a-/AOh14GheoNEDkFszR25GYBavDeUgpzEdAY_vFJnprvvU=s64",
      "userId": "01987150126169531352"
     },
     "user_tz": -60
    },
    "id": "TKAE9FJFSjLE",
    "outputId": "c0c94adf-13dd-4283-d5a3-f006e130a657"
   },
   "outputs": [
    {
     "name": "stdout",
     "output_type": "stream",
     "text": [
      "Mounted at /content/drive\n"
     ]
    }
   ],
   "source": [
    "from google.colab import drive\n",
    "drive.mount('/content/drive')"
   ]
  },
  {
   "cell_type": "code",
   "execution_count": 2,
   "metadata": {
    "colab": {
     "base_uri": "https://localhost:8080/"
    },
    "executionInfo": {
     "elapsed": 543,
     "status": "ok",
     "timestamp": 1646580111590,
     "user": {
      "displayName": "Kaoutar Ait Ahmad",
      "photoUrl": "https://lh3.googleusercontent.com/a-/AOh14GheoNEDkFszR25GYBavDeUgpzEdAY_vFJnprvvU=s64",
      "userId": "01987150126169531352"
     },
     "user_tz": -60
    },
    "id": "6wjUtY2YqfV3",
    "outputId": "ebca9008-c0c6-4930-9e49-cd7fcbb0495a"
   },
   "outputs": [
    {
     "name": "stdout",
     "output_type": "stream",
     "text": [
      "Sun Mar  6 15:21:50 2022       \n",
      "+-----------------------------------------------------------------------------+\n",
      "| NVIDIA-SMI 460.32.03    Driver Version: 460.32.03    CUDA Version: 11.2     |\n",
      "|-------------------------------+----------------------+----------------------+\n",
      "| GPU  Name        Persistence-M| Bus-Id        Disp.A | Volatile Uncorr. ECC |\n",
      "| Fan  Temp  Perf  Pwr:Usage/Cap|         Memory-Usage | GPU-Util  Compute M. |\n",
      "|                               |                      |               MIG M. |\n",
      "|===============================+======================+======================|\n",
      "|   0  Tesla P100-PCIE...  Off  | 00000000:00:04.0 Off |                    0 |\n",
      "| N/A   48C    P0    27W / 250W |      0MiB / 16280MiB |      0%      Default |\n",
      "|                               |                      |                  N/A |\n",
      "+-------------------------------+----------------------+----------------------+\n",
      "                                                                               \n",
      "+-----------------------------------------------------------------------------+\n",
      "| Processes:                                                                  |\n",
      "|  GPU   GI   CI        PID   Type   Process name                  GPU Memory |\n",
      "|        ID   ID                                                   Usage      |\n",
      "|=============================================================================|\n",
      "|  No running processes found                                                 |\n",
      "+-----------------------------------------------------------------------------+\n"
     ]
    }
   ],
   "source": [
    "!nvidia-smi"
   ]
  },
  {
   "cell_type": "markdown",
   "metadata": {
    "id": "trlqB4w8E3y5"
   },
   "source": [
    "# Importing libraries"
   ]
  },
  {
   "cell_type": "code",
   "execution_count": 3,
   "metadata": {
    "colab": {
     "base_uri": "https://localhost:8080/"
    },
    "executionInfo": {
     "elapsed": 6562,
     "status": "ok",
     "timestamp": 1646580126629,
     "user": {
      "displayName": "Kaoutar Ait Ahmad",
      "photoUrl": "https://lh3.googleusercontent.com/a-/AOh14GheoNEDkFszR25GYBavDeUgpzEdAY_vFJnprvvU=s64",
      "userId": "01987150126169531352"
     },
     "user_tz": -60
    },
    "id": "GV86lDuULBZ_",
    "outputId": "e78cc487-cf60-40e3-9f40-6e78cef3b126"
   },
   "outputs": [
    {
     "name": "stdout",
     "output_type": "stream",
     "text": [
      "done importing\n"
     ]
    }
   ],
   "source": [
    "import numpy as np             # linear algebra\n",
    "import pandas as pd            # data processing, CSV file I/O (e.g. pd.read_csv)\n",
    "import matplotlib.pyplot as plt\n",
    "from PIL import Image\n",
    "\n",
    "import os\n",
    "import time\n",
    "import copy\n",
    "from tqdm import tqdm  \n",
    "\n",
    "import torch                   # PyTorch\n",
    "import torch.nn as nn\n",
    "import torch.nn.functional as F\n",
    "from torch.autograd import Variable\n",
    "from torch.utils.data import Dataset, DataLoader\n",
    "from torch import nn, optim\n",
    "import torchvision\n",
    "from torchvision import transforms, models, datasets # importer le modèle à utiliser\n",
    "import torchvision.transforms as transforms\n",
    "from torch.optim import lr_scheduler\n",
    "\n",
    "os.environ['CUDA_LAUNCH_BLOCKING'] = \"1\"\n",
    "print (\"done importing\")"
   ]
  },
  {
   "cell_type": "code",
   "execution_count": 4,
   "metadata": {
    "colab": {
     "base_uri": "https://localhost:8080/"
    },
    "executionInfo": {
     "elapsed": 315,
     "status": "ok",
     "timestamp": 1646562014646,
     "user": {
      "displayName": "Kaoutar Ait Ahmad",
      "photoUrl": "https://lh3.googleusercontent.com/a-/AOh14GheoNEDkFszR25GYBavDeUgpzEdAY_vFJnprvvU=s64",
      "userId": "01987150126169531352"
     },
     "user_tz": -60
    },
    "id": "5Zt62zFw3mZx",
    "outputId": "619b5311-8032-476f-97c5-1c6c9e6e4dad"
   },
   "outputs": [
    {
     "data": {
      "text/plain": [
       "<torch._C.Generator at 0x7f8de47f25f0>"
      ]
     },
     "execution_count": 4,
     "metadata": {},
     "output_type": "execute_result"
    }
   ],
   "source": [
    "torch.manual_seed(0) # génération de nombres aléatoires"
   ]
  },
  {
   "cell_type": "markdown",
   "metadata": {
    "id": "b2zSg5iJqfV4"
   },
   "source": [
    "## Read data"
   ]
  },
  {
   "cell_type": "code",
   "execution_count": 5,
   "metadata": {
    "colab": {
     "base_uri": "https://localhost:8080/"
    },
    "executionInfo": {
     "elapsed": 52804,
     "status": "ok",
     "timestamp": 1646562069549,
     "user": {
      "displayName": "Kaoutar Ait Ahmad",
      "photoUrl": "https://lh3.googleusercontent.com/a-/AOh14GheoNEDkFszR25GYBavDeUgpzEdAY_vFJnprvvU=s64",
      "userId": "01987150126169531352"
     },
     "user_tz": -60
    },
    "id": "_BKpEvRdqfV5",
    "outputId": "581dcd39-f3e4-4e69-f238-715a61457daf"
   },
   "outputs": [
    {
     "name": "stdout",
     "output_type": "stream",
     "text": [
      "(25331, 224, 224, 3)\n"
     ]
    }
   ],
   "source": [
    "# Short names of categories\n",
    "classes = [\"MEL\", \"NV\", \"BCC\", \"AK\", \"BKL\", \"DF\", \"VASC\", \"SCC\"]\n",
    "\n",
    "# Path to image data\n",
    "#img_path=\"../input/isic-2019/ISIC_2019_Training_Input/ISIC_2019_Training_Input\"\n",
    "img_path='/content/drive/MyDrive/MLTPs/Projet/'\n",
    "\n",
    "# Load data frame containing category annotations\n",
    "df_all = pd.read_csv(os.path.join(img_path,\"gt_train_test.csv\"))\n",
    "\n",
    "# data frame for training (with categories)\n",
    "df_annot = df_all[df_all['target']>=0]\n",
    "\n",
    "# data frame for testing (without categories)\n",
    "df_test = df_all[df_all['target']<0]\n",
    "\n",
    "# load or image data\n",
    "#img_data_tensor = np.load('../input/iogs-atsi-skin-classification-2022/isic2019_img_data.npz')\n",
    "if (os.path.exists(os.path.join(img_path,'isic2019_img_data_224.npz'))):\n",
    "  img_data_tensor = np.load(os.path.join(img_path,'isic2019_img_data_224.npz'))\n",
    "  img_all = img_data_tensor['img_data']\n",
    "else:\n",
    "  img_all = []\n",
    "\n",
    "  # To create square image\n",
    "  def center_crop(pil_img):\n",
    "      img_width, img_height = pil_img.size\n",
    "      if img_width > img_height:\n",
    "          crop_size = img_height\n",
    "      else:\n",
    "          crop_size = img_width\n",
    "      return pil_img.crop(((img_width - crop_size) // 2,\n",
    "                          (img_height - crop_size) // 2,\n",
    "                          (img_width + crop_size) // 2,\n",
    "                          (img_height + crop_size) // 2))\n",
    "      \n",
    "  for im in tqdm(df_all['image']):\n",
    "      x = Image.open(os.path.join(img_path, \"{}.jpg\".format(im)))\n",
    "      x = center_crop(x)\n",
    "      img_all.append(np.array(x.resize((224,224))))\n",
    "\n",
    "  np.savez_compressed(os.path.join(img_path,'isic2019_img_data_224.npz'), img_data=np.array(img_all))\n",
    "\n",
    "y_all = df_all['target']\n",
    "\n",
    "print(img_all.shape)"
   ]
  },
  {
   "cell_type": "markdown",
   "metadata": {
    "id": "yPakn0T1qfV6"
   },
   "source": [
    "## Create dataset"
   ]
  },
  {
   "cell_type": "code",
   "execution_count": 6,
   "metadata": {
    "executionInfo": {
     "elapsed": 7137,
     "status": "ok",
     "timestamp": 1646562116558,
     "user": {
      "displayName": "Kaoutar Ait Ahmad",
      "photoUrl": "https://lh3.googleusercontent.com/a-/AOh14GheoNEDkFszR25GYBavDeUgpzEdAY_vFJnprvvU=s64",
      "userId": "01987150126169531352"
     },
     "user_tz": -60
    },
    "id": "c-YT4Qg0qfV8"
   },
   "outputs": [],
   "source": [
    "# Create train, val and test splits\n",
    "from sklearn.model_selection import train_test_split\n",
    "\n",
    "x_train, x_val, y_train, y_val = train_test_split(img_all[df_all['target']>=0,:,:,:], y_all[df_all['target']>=0], test_size=0.2, random_state=123)\n",
    "\n",
    "x_test = img_all[df_all['target']<0,:,:,:]\n",
    "y_test = y_all[df_all['target']<0]\n"
   ]
  },
  {
   "cell_type": "code",
   "execution_count": 7,
   "metadata": {
    "executionInfo": {
     "elapsed": 310,
     "status": "ok",
     "timestamp": 1646562127803,
     "user": {
      "displayName": "Kaoutar Ait Ahmad",
      "photoUrl": "https://lh3.googleusercontent.com/a-/AOh14GheoNEDkFszR25GYBavDeUgpzEdAY_vFJnprvvU=s64",
      "userId": "01987150126169531352"
     },
     "user_tz": -60
    },
    "id": "lOo7Aks_qfV9"
   },
   "outputs": [],
   "source": [
    "# Create dataset\n",
    "class MyDatasetRaw(Dataset):\n",
    "    \"\"\"ISIC 2019 dataset.\"\"\"\n",
    "    # classes = {'NV': 0, 'MEL': 1, 'BKL': 2, 'DF': 3, 'SCC': 4, 'BCC': 5, 'VASC': 6, 'AK': 7}\n",
    "    \n",
    "    def __init__(self, raw_data, targets, transform=None):\n",
    "        \"\"\"\n",
    "        Args:\n",
    "        \"\"\"\n",
    "        self.raw_data = raw_data\n",
    "        self.targets = targets\n",
    "        self.transform = transform        \n",
    "    \n",
    "    def __getitem__(self, idx):\n",
    "        x = Image.fromarray(self.raw_data[idx, :, :, :])\n",
    "        #x = read_image(os.path.join(self.img_path, \"{}.jpg\".format(image_id)))\n",
    "        x = self.center_crop(x)\n",
    "        if self.transform:\n",
    "            x = self.transform(x)\n",
    "        y = self.targets.iloc[idx]\n",
    "        y = np.int64(y)\n",
    "        id=self.targets.index[idx]\n",
    "        return {\"image\": x, \"label\": y, \"Id\": id}\n",
    "            \n",
    "    def __len__(self):\n",
    "        return int(len(self.raw_data))\n",
    "    \n",
    "    # To create square image\n",
    "    def center_crop(self, pil_img):\n",
    "        img_width, img_height = pil_img.size\n",
    "        if img_width > img_height:\n",
    "            crop_size = img_height\n",
    "        else:\n",
    "            crop_size = img_width\n",
    "        return pil_img.crop(((img_width - crop_size) // 2,\n",
    "                             (img_height - crop_size) // 2,\n",
    "                             (img_width + crop_size) // 2,\n",
    "                             (img_height + crop_size) // 2))\n"
   ]
  },
  {
   "cell_type": "markdown",
   "metadata": {
    "id": "5TameW2TcLWs"
   },
   "source": [
    "## Select device"
   ]
  },
  {
   "cell_type": "code",
   "execution_count": null,
   "metadata": {
    "id": "6mRaokzcdHe-"
   },
   "outputs": [],
   "source": [
    "device = torch.device(\"cuda:0\" if torch.cuda.is_available() else \"cpu\")"
   ]
  },
  {
   "cell_type": "markdown",
   "metadata": {
    "id": "2sMtKQEJqfV-"
   },
   "source": [
    "## Create data loaders"
   ]
  },
  {
   "cell_type": "code",
   "execution_count": 9,
   "metadata": {
    "executionInfo": {
     "elapsed": 406,
     "status": "ok",
     "timestamp": 1646562133739,
     "user": {
      "displayName": "Kaoutar Ait Ahmad",
      "photoUrl": "https://lh3.googleusercontent.com/a-/AOh14GheoNEDkFszR25GYBavDeUgpzEdAY_vFJnprvvU=s64",
      "userId": "01987150126169531352"
     },
     "user_tz": -60
    },
    "id": "fq3i0AFmqfV_"
   },
   "outputs": [],
   "source": [
    "#batch_size = 25\n",
    "batch_size = 32\n",
    "input_size = 224\n",
    "\n",
    "normalize = transforms.Normalize(mean=[0.485, 0.456, 0.406],\n",
    "                                 std=[0.229, 0.224, 0.225])\n",
    "\n",
    "train_transform = transforms.Compose([transforms.RandomHorizontalFlip(),\n",
    "                                         transforms.RandomVerticalFlip(),\n",
    "                                         transforms.ColorJitter(brightness=32. / 255., saturation=0.5),\n",
    "                                         transforms.Resize(input_size),\n",
    "                                         transforms.ToTensor(),\n",
    "                                     normalize])\n",
    "\n",
    "val_transform = transforms.Compose([transforms.Resize(input_size),\n",
    "                                    transforms.ToTensor(),\n",
    "                                   normalize])\n",
    "        \n",
    "kwargs = {'num_workers': 2, 'pin_memory': True} if torch.cuda.is_available() else {}\n",
    "\n",
    "train_set_raw = MyDatasetRaw(x_train, y_train, transform = train_transform)\n",
    "train_dataloader = DataLoader(train_set_raw, batch_size=batch_size, shuffle=True, **kwargs)\n",
    "\n",
    "val_set_raw = MyDatasetRaw(x_val, y_val, transform = val_transform)\n",
    "val_dataloader = DataLoader(val_set_raw, batch_size=batch_size, shuffle=False, **kwargs)"
   ]
  },
  {
   "cell_type": "code",
   "execution_count": 10,
   "metadata": {
    "executionInfo": {
     "elapsed": 5,
     "status": "ok",
     "timestamp": 1646562169331,
     "user": {
      "displayName": "Kaoutar Ait Ahmad",
      "photoUrl": "https://lh3.googleusercontent.com/a-/AOh14GheoNEDkFszR25GYBavDeUgpzEdAY_vFJnprvvU=s64",
      "userId": "01987150126169531352"
     },
     "user_tz": -60
    },
    "id": "Q-9zc0o4PlD4"
   },
   "outputs": [],
   "source": [
    "draw = {'train': train_set_raw,    # set the dictionnary for the training and validation phases\n",
    "        'valid': val_set_raw} \n",
    "image_datasets = {x: draw[x]\n",
    "                  for x in ['train', 'valid']}\n",
    "dataset_sizes = {x: len(image_datasets[x]) for x in ['train', 'valid']}\n",
    "# set a dictionnary for the dataloaders\n",
    "dataloaders = {x: DataLoader(draw[x], batch_size=16, shuffle=True, **kwargs) for x in ['train', 'valid']}"
   ]
  },
  {
   "cell_type": "markdown",
   "metadata": {
    "id": "tBcBMkGvqfWA"
   },
   "source": [
    "## Test data loader"
   ]
  },
  {
   "cell_type": "code",
   "execution_count": 11,
   "metadata": {
    "colab": {
     "base_uri": "https://localhost:8080/",
     "height": 254
    },
    "executionInfo": {
     "elapsed": 24516,
     "status": "ok",
     "timestamp": 1646562196244,
     "user": {
      "displayName": "Kaoutar Ait Ahmad",
      "photoUrl": "https://lh3.googleusercontent.com/a-/AOh14GheoNEDkFszR25GYBavDeUgpzEdAY_vFJnprvvU=s64",
      "userId": "01987150126169531352"
     },
     "user_tz": -60
    },
    "id": "iJ45BfUtqfWB",
    "outputId": "90b6bb7f-6cc5-4c7d-a109-aeacf98e6b83"
   },
   "outputs": [
    {
     "name": "stderr",
     "output_type": "stream",
     "text": [
      "Clipping input data to the valid range for imshow with RGB data ([0..1] for floats or [0..255] for integers).\n"
     ]
    },
    {
     "data": {
      "text/plain": [
       "<matplotlib.image.AxesImage at 0x7f8dd25537d0>"
      ]
     },
     "execution_count": 11,
     "metadata": {},
     "output_type": "execute_result"
    },
    {
     "data": {
      "image/png": "[encoded data removed]",
      "text/plain": [
       "<Figure size 432x288 with 1 Axes>"
      ]
     },
     "metadata": {
      "needs_background": "light"
     },
     "output_type": "display_data"
    }
   ],
   "source": [
    "it = iter(val_dataloader)     # iterate over validation dataloader\n",
    "sample = it.next()\n",
    "\n",
    "out = torchvision.utils.make_grid(sample['image'])\n",
    "plt.imshow(out.permute(1, 2, 0))"
   ]
  },
  {
   "cell_type": "markdown",
   "metadata": {
    "id": "pPFLaK-HqfWC"
   },
   "source": [
    "## The neural network architecture : Resnet-50"
   ]
  },
  {
   "cell_type": "markdown",
   "metadata": {
    "id": "YsbqeTwqLzPg"
   },
   "source": [
    "### Create training function"
   ]
  },
  {
   "cell_type": "code",
   "execution_count": 12,
   "metadata": {
    "executionInfo": {
     "elapsed": 468,
     "status": "ok",
     "timestamp": 1646562210320,
     "user": {
      "displayName": "Kaoutar Ait Ahmad",
      "photoUrl": "https://lh3.googleusercontent.com/a-/AOh14GheoNEDkFszR25GYBavDeUgpzEdAY_vFJnprvvU=s64",
      "userId": "01987150126169531352"
     },
     "user_tz": -60
    },
    "id": "AMqe-KMEfbN4"
   },
   "outputs": [],
   "source": [
    "def model_training(model, criterion, optimizer, scheduler, num_epochs):\n",
    "\n",
    "    since = time.time()\n",
    "\n",
    "    best_model_wts = copy.deepcopy(model.state_dict())\n",
    "    best_acc = 0.0\n",
    "\n",
    "    train_acc = []\n",
    "    valid_acc = []\n",
    "\n",
    "\n",
    "    for epoch in range(num_epochs):\n",
    "        print('Epoch {}/{}'.format(epoch, num_epochs - 1))    # each epoch has a training and validation phase\n",
    "        print('-' * 10)\n",
    "\n",
    "       \n",
    "        for phase in ['train', 'valid']:\n",
    "            if phase == 'train':\n",
    "                model.train()            # set model to training mode\n",
    "            else:\n",
    "                model.eval()             # set model to evaluate mode\n",
    "\n",
    "            running_loss = 0.0\n",
    "            running_corrects = 0\n",
    "\n",
    "            for sample in dataloaders[phase]:      # iterate over data.\n",
    "                inputs = sample['image']           # take the image from the dataloader\n",
    "                labels = sample['label']           # take the label from the dataloader\n",
    "                inputs = inputs.to(device)\n",
    "                labels = labels.to(device)\n",
    "\n",
    "                # forward\n",
    "                with torch.set_grad_enabled(phase == 'train'):      # track history if only in train\n",
    "                    outputs = model(inputs)\n",
    "                    _, preds = torch.max(outputs, 1)\n",
    "                    loss = criterion(outputs, labels)\n",
    "\n",
    "                    # backward  \n",
    "                    if phase == 'train':\n",
    "                        optimizer.zero_grad()      # optimize only if in training phase\n",
    "                        loss.backward()\n",
    "                        optimizer.step()\n",
    "\n",
    "                running_loss += loss.item() * inputs.size(0)\n",
    "                running_corrects += torch.sum(preds == labels.data)\n",
    "\n",
    "            if phase == 'train':\n",
    "                scheduler.step()\n",
    "\n",
    "            epoch_loss = running_loss / dataset_sizes[phase]   \n",
    "            epoch_acc = running_corrects.double() / dataset_sizes[phase]    # calculate training accuracy\n",
    "\n",
    "            print('{} Loss: {:.4f} Acc: {:.4f}'.format(\n",
    "                phase, epoch_loss, epoch_acc))\n",
    "            \n",
    "            train_acc.append(epoch_acc)\n",
    "\n",
    "            if phase == 'valid' and epoch_acc > best_acc:       # deep copy the model\n",
    "                best_acc = epoch_acc                            # calculate validation accuracy\n",
    "                best_model_wts = copy.deepcopy(model.state_dict())     \n",
    "                valid_acc.append(epoch_acc)\n",
    "\n",
    "        print()\n",
    "\n",
    "    time_elapsed = time.time() - since                          # time\n",
    "    print('Training complete in {:.0f}m {:.0f}s'.format(\n",
    "        time_elapsed // 60, time_elapsed % 60))\n",
    "    print('Best valid Acc: {:4f}'.format(best_acc))\n",
    "\n",
    "    model.load_state_dict(best_model_wts)       # load best model weights\n",
    "\n",
    "    return model, train_acc, valid_acc"
   ]
  },
  {
   "cell_type": "markdown",
   "metadata": {
    "id": "B53AShJlT4aK"
   },
   "source": [
    "## Load the pretrained model Resnet-50"
   ]
  },
  {
   "cell_type": "code",
   "execution_count": 4,
   "metadata": {
    "colab": {
     "base_uri": "https://localhost:8080/",
     "height": 86,
     "referenced_widgets": [
      "82472ceee2ab46bbba2fd95829ed23f6",
      "5b22471c299d4b59beffe898f0f66777",
      "d5cebbb3ded94ec7ab37217ca575e437",
      "8bf598d486f14f46a2814209c1837974",
      "248d4257d2a7495880b68ccd03926664",
      "ada8f8d33aff4df3acb93bc800c986cd",
      "64586f9fbee6433bb483cbfb6ea333dc",
      "35613c2c72fb4dbeac0c65e2c7feb640",
      "f8e9598fd8cb4bf5b96bcdf5bb3f6632",
      "59ff489d2cfb4f38a419e0ae9dee9c81",
      "94656b3c5ff94ebe902e91bbd03b0561"
     ]
    },
    "executionInfo": {
     "elapsed": 4675,
     "status": "ok",
     "timestamp": 1646580138186,
     "user": {
      "displayName": "Kaoutar Ait Ahmad",
      "photoUrl": "https://lh3.googleusercontent.com/a-/AOh14GheoNEDkFszR25GYBavDeUgpzEdAY_vFJnprvvU=s64",
      "userId": "01987150126169531352"
     },
     "user_tz": -60
    },
    "id": "woRFxdFZmPgp",
    "outputId": "42783a32-7c23-4a19-8c51-899e936f7c1a"
   },
   "outputs": [
    {
     "name": "stderr",
     "output_type": "stream",
     "text": [
      "Downloading: \"https://download.pytorch.org/models/resnet50-0676ba61.pth\" to /root/.cache/torch/hub/checkpoints/resnet50-0676ba61.pth\n"
     ]
    },
    {
     "data": {
      "application/vnd.jupyter.widget-view+json": {
       "model_id": "82472ceee2ab46bbba2fd95829ed23f6",
       "version_major": 2,
       "version_minor": 0
      },
      "text/plain": [
       "  0%|          | 0.00/97.8M [00:00<?, ?B/s]"
      ]
     },
     "metadata": {},
     "output_type": "display_data"
    }
   ],
   "source": [
    "model = models.resnet50(pretrained=True)"
   ]
  },
  {
   "cell_type": "markdown",
   "metadata": {
    "id": "74u1FvX6atJ6"
   },
   "source": [
    "## Finetuning"
   ]
  },
  {
   "cell_type": "markdown",
   "metadata": {
    "id": "SkQpAuLLpQOA"
   },
   "source": [
    "Ici, nous utilisons le resnet-50 pour notre dataset, qui a 8 classes. Comme tous les modèles qui ont été pré-entraînés sur Imagenet, ils ont tous des couches de sortie de taille 1000. Le but ici est de remodeler la dernière couche pour avoir le même nombre de sorties que le nombre de classes dans notre ensemble de données qui est 8 classes :\n",
    "\n",
    "*   Melanoma (\"MEL\" = 0)\n",
    "*   Melanocytic nevus (\"NV\" = 1)\n",
    "*   Basal cell carcinoma (\"BCC\" = 2)\n",
    "*   Actinic keratosis (\"AK\" = 3)\n",
    "*   Benign keratosis (\"BKL\" = 4)\n",
    "*   Dermatofibroma (\"DF\" = 5)\n",
    "*   Vascular lesion (\"VASC\" = 6)\n",
    "*   Squamous cell carcinoma (\"SCC\" = 7)\n",
    "\n",
    "Nous allons changer donc la sortie de la dernière couche FC à 8. "
   ]
  },
  {
   "cell_type": "code",
   "execution_count": 14,
   "metadata": {
    "executionInfo": {
     "elapsed": 311,
     "status": "ok",
     "timestamp": 1646562262565,
     "user": {
      "displayName": "Kaoutar Ait Ahmad",
      "photoUrl": "https://lh3.googleusercontent.com/a-/AOh14GheoNEDkFszR25GYBavDeUgpzEdAY_vFJnprvvU=s64",
      "userId": "01987150126169531352"
     },
     "user_tz": -60
    },
    "id": "v_088YzqVi4W"
   },
   "outputs": [],
   "source": [
    "num_ftrs = model.fc.in_features     # reset final fully connected layer\n",
    "model.fc = nn.Linear(num_ftrs, 8)   # 8 outputs which is the number of classes"
   ]
  },
  {
   "cell_type": "code",
   "execution_count": null,
   "metadata": {
    "id": "l0hvSNoZnP2A"
   },
   "outputs": [],
   "source": [
    "model = model.to(device)    # move the model to the device"
   ]
  },
  {
   "cell_type": "markdown",
   "metadata": {
    "id": "d4Zp1fXf4VoI"
   },
   "source": [
    "La couche finale FC de notre modèle, possède le même nombre de nœuds que le nombre de classes de sortie dans l'ensemble de dataset. "
   ]
  },
  {
   "cell_type": "markdown",
   "metadata": {
    "id": "Mvq9fyuvW7jU"
   },
   "source": [
    "## Optimization and setting Hyperparameters "
   ]
  },
  {
   "cell_type": "markdown",
   "metadata": {
    "id": "fynFpsS_ACca"
   },
   "source": [
    "Nous observons que tous les paramètres sont optimisés\n"
   ]
  },
  {
   "cell_type": "code",
   "execution_count": 16,
   "metadata": {
    "executionInfo": {
     "elapsed": 410,
     "status": "ok",
     "timestamp": 1646562269172,
     "user": {
      "displayName": "Kaoutar Ait Ahmad",
      "photoUrl": "https://lh3.googleusercontent.com/a-/AOh14GheoNEDkFszR25GYBavDeUgpzEdAY_vFJnprvvU=s64",
      "userId": "01987150126169531352"
     },
     "user_tz": -60
    },
    "id": "lLf3F0hmSDzb"
   },
   "outputs": [],
   "source": [
    "criterion = F.cross_entropy   # compute the cross entropy loss between input and target\n",
    "\n",
    "grad_clip = 0.1\n",
    "weight_d = 0.00015    # add a small penalty\n",
    "\n",
    "num_epochs = 25       # chose number of epochs\n",
    "lr_m = 0.0007         # set the learning rate and decay LR by a factor of 0.1 every 7 epochs\n",
    "\n",
    "##optimizer = optim.SGD(model.parameters(), lr=0.0007)\n",
    "\n",
    "optimizer = torch.optim.Adam(model.parameters(), lr = lr_m, weight_decay = weight_d) # set Adam optimizer\n",
    "\n",
    "# Learning rate scheduling should be applied after optimizer’s update\n",
    "lr_scheduler = torch.optim.lr_scheduler.OneCycleLR(optimizer, lr_m, epochs=num_epochs, \n",
    "                                                steps_per_epoch=len(train_dataloader))\n"
   ]
  },
  {
   "cell_type": "markdown",
   "metadata": {
    "id": "EPiuiF1Y_l4g"
   },
   "source": [
    "## Training the whole network"
   ]
  },
  {
   "cell_type": "code",
   "execution_count": 17,
   "metadata": {
    "colab": {
     "base_uri": "https://localhost:8080/"
    },
    "executionInfo": {
     "elapsed": 5660717,
     "status": "ok",
     "timestamp": 1646567932924,
     "user": {
      "displayName": "Kaoutar Ait Ahmad",
      "photoUrl": "https://lh3.googleusercontent.com/a-/AOh14GheoNEDkFszR25GYBavDeUgpzEdAY_vFJnprvvU=s64",
      "userId": "01987150126169531352"
     },
     "user_tz": -60
    },
    "id": "fF5bQzpRj886",
    "outputId": "2b93dc42-138e-4fec-8220-c133a9e8048c"
   },
   "outputs": [
    {
     "name": "stdout",
     "output_type": "stream",
     "text": [
      "Epoch 0/24\n",
      "----------\n",
      "train Loss: 0.9046 Acc: 0.6825\n",
      "valid Loss: 0.6926 Acc: 0.7467\n",
      "\n",
      "Epoch 1/24\n",
      "----------\n",
      "train Loss: 0.6925 Acc: 0.7486\n",
      "valid Loss: 0.6236 Acc: 0.7776\n",
      "\n",
      "Epoch 2/24\n",
      "----------\n",
      "train Loss: 0.5956 Acc: 0.7837\n",
      "valid Loss: 0.5988 Acc: 0.7884\n",
      "\n",
      "Epoch 3/24\n",
      "----------\n",
      "train Loss: 0.4984 Acc: 0.8196\n",
      "valid Loss: 0.6148 Acc: 0.7851\n",
      "\n",
      "Epoch 4/24\n",
      "----------\n",
      "train Loss: 0.4379 Acc: 0.8416\n",
      "valid Loss: 0.5478 Acc: 0.8059\n",
      "\n",
      "Epoch 5/24\n",
      "----------\n",
      "train Loss: 0.3687 Acc: 0.8659\n",
      "valid Loss: 0.5665 Acc: 0.8070\n",
      "\n",
      "Epoch 6/24\n",
      "----------\n",
      "train Loss: 0.3216 Acc: 0.8839\n",
      "valid Loss: 0.5948 Acc: 0.8046\n",
      "\n",
      "Epoch 7/24\n",
      "----------\n",
      "train Loss: 0.2754 Acc: 0.9029\n",
      "valid Loss: 0.5690 Acc: 0.8162\n",
      "\n",
      "Epoch 8/24\n",
      "----------\n",
      "train Loss: 0.2443 Acc: 0.9133\n",
      "valid Loss: 0.5937 Acc: 0.8167\n",
      "\n",
      "Epoch 9/24\n",
      "----------\n",
      "train Loss: 0.2070 Acc: 0.9273\n",
      "valid Loss: 0.5911 Acc: 0.8110\n",
      "\n",
      "Epoch 10/24\n",
      "----------\n",
      "train Loss: 0.1901 Acc: 0.9339\n",
      "valid Loss: 0.6161 Acc: 0.8072\n",
      "\n",
      "Epoch 11/24\n",
      "----------\n",
      "train Loss: 0.1786 Acc: 0.9375\n",
      "valid Loss: 0.5945 Acc: 0.8215\n",
      "\n",
      "Epoch 12/24\n",
      "----------\n",
      "train Loss: 0.1494 Acc: 0.9496\n",
      "valid Loss: 0.6217 Acc: 0.8169\n",
      "\n",
      "Epoch 13/24\n",
      "----------\n",
      "train Loss: 0.1462 Acc: 0.9492\n",
      "valid Loss: 0.6769 Acc: 0.8169\n",
      "\n",
      "Epoch 14/24\n",
      "----------\n",
      "train Loss: 0.1340 Acc: 0.9561\n",
      "valid Loss: 0.6558 Acc: 0.8257\n",
      "\n",
      "Epoch 15/24\n",
      "----------\n",
      "train Loss: 0.1247 Acc: 0.9579\n",
      "valid Loss: 0.6200 Acc: 0.8226\n",
      "\n",
      "Epoch 16/24\n",
      "----------\n",
      "train Loss: 0.1167 Acc: 0.9581\n",
      "valid Loss: 0.6483 Acc: 0.8259\n",
      "\n",
      "Epoch 17/24\n",
      "----------\n",
      "train Loss: 0.1079 Acc: 0.9622\n",
      "valid Loss: 0.7152 Acc: 0.8096\n",
      "\n",
      "Epoch 18/24\n",
      "----------\n",
      "train Loss: 0.1015 Acc: 0.9651\n",
      "valid Loss: 0.6698 Acc: 0.8200\n",
      "\n",
      "Epoch 19/24\n",
      "----------\n",
      "train Loss: 0.0971 Acc: 0.9679\n",
      "valid Loss: 0.7053 Acc: 0.8270\n",
      "\n",
      "Epoch 20/24\n",
      "----------\n",
      "train Loss: 0.0953 Acc: 0.9665\n",
      "valid Loss: 0.7271 Acc: 0.8180\n",
      "\n",
      "Epoch 21/24\n",
      "----------\n",
      "train Loss: 0.0927 Acc: 0.9687\n",
      "valid Loss: 0.6789 Acc: 0.8241\n",
      "\n",
      "Epoch 22/24\n",
      "----------\n",
      "train Loss: 0.0881 Acc: 0.9699\n",
      "valid Loss: 0.6502 Acc: 0.8307\n",
      "\n",
      "Epoch 23/24\n",
      "----------\n",
      "train Loss: 0.0748 Acc: 0.9757\n",
      "valid Loss: 0.7075 Acc: 0.8248\n",
      "\n",
      "Epoch 24/24\n",
      "----------\n",
      "train Loss: 0.0728 Acc: 0.9757\n",
      "valid Loss: 0.7047 Acc: 0.8175\n",
      "\n",
      "Training complete in 94m 20s\n",
      "Best valid Acc: 0.830702\n"
     ]
    }
   ],
   "source": [
    "model = model_training(model, criterion, optimizer, lr_scheduler, num_epochs)"
   ]
  },
  {
   "cell_type": "markdown",
   "metadata": {
    "id": "dXPV1mdgAkRk"
   },
   "source": [
    "Puisque nous avons utilisé deux méthodes pour la prédiction des classes, nous déduisons que le Resnet-50 avec ces hyperparamètres est meilleur qu'un simple CNN car nous avons atteint une accuracy de 83.221% avec un temps de training de 94m 20s."
   ]
  },
  {
   "cell_type": "markdown",
   "metadata": {
    "id": "qLg6WcL1Cu6c"
   },
   "source": [
    "## Save the best model"
   ]
  },
  {
   "cell_type": "code",
   "execution_count": 18,
   "metadata": {
    "executionInfo": {
     "elapsed": 1242,
     "status": "ok",
     "timestamp": 1646569519678,
     "user": {
      "displayName": "Kaoutar Ait Ahmad",
      "photoUrl": "https://lh3.googleusercontent.com/a-/AOh14GheoNEDkFszR25GYBavDeUgpzEdAY_vFJnprvvU=s64",
      "userId": "01987150126169531352"
     },
     "user_tz": -60
    },
    "id": "dktLFYLhGWL8"
   },
   "outputs": [],
   "source": [
    "torch.save(model[0].state_dict(), '/content/drive/MyDrive/MLTPs/Projet/modelth_resnet50.pt')"
   ]
  },
  {
   "cell_type": "markdown",
   "metadata": {
    "id": "R5PjbToOqfWE"
   },
   "source": [
    "## Submission"
   ]
  },
  {
   "cell_type": "code",
   "execution_count": 19,
   "metadata": {
    "colab": {
     "base_uri": "https://localhost:8080/"
    },
    "executionInfo": {
     "elapsed": 8692,
     "status": "ok",
     "timestamp": 1646569541339,
     "user": {
      "displayName": "Kaoutar Ait Ahmad",
      "photoUrl": "https://lh3.googleusercontent.com/a-/AOh14GheoNEDkFszR25GYBavDeUgpzEdAY_vFJnprvvU=s64",
      "userId": "01987150126169531352"
     },
     "user_tz": -60
    },
    "id": "qdK4VYGwqfWE",
    "outputId": "c422d89f-9d93-4ba1-efcd-0232a3f82d2f"
   },
   "outputs": [
    {
     "name": "stdout",
     "output_type": "stream",
     "text": [
      "Resume from last learning step\n"
     ]
    },
    {
     "name": "stderr",
     "output_type": "stream",
     "text": [
      " Test : 100%|███████████████████████████████████| 26/26 [00:07<00:00,  3.56it/s]"
     ]
    },
    {
     "name": "stdout",
     "output_type": "stream",
     "text": [
      "      Id  target\n",
      "0      0       1\n",
      "13    13       1\n",
      "25    25       1\n",
      "30    30       0\n",
      "36    36       1\n",
      "37    37       1\n",
      "50    50       1\n",
      "55    55       1\n",
      "59    59       1\n",
      "65    65       1\n",
      "67    67       1\n",
      "78    78       1\n",
      "96    96       1\n",
      "105  105       1\n",
      "117  117       1\n",
      "118  118       0\n",
      "164  164       1\n",
      "174  174       1\n",
      "175  175       1\n",
      "194  194       1\n"
     ]
    },
    {
     "name": "stderr",
     "output_type": "stream",
     "text": [
      "\n"
     ]
    }
   ],
   "source": [
    "test_set_raw = MyDatasetRaw(x_test, y_test, transform = val_transform)\n",
    "test_dataloader = DataLoader(test_set_raw, batch_size=100, shuffle=False, **kwargs)\n",
    "\n",
    "submission=pd.DataFrame(df_test[['Id']])\n",
    "submission['target'] = -1\n",
    "\n",
    "tag = \"modelth_resnet50.pt\"\n",
    "\n",
    "if (os.path.exists(os.path.join(img_path, '{}'.format(tag)))):\n",
    "  print('Resume from last learning step')\n",
    "  #network = torch.load(os.path.join(img_path, '{}.pt'.format(tag)))\n",
    "  model[0].load_state_dict(torch.load(os.path.join(img_path, tag)))\n",
    "  model[0].to(device)\n",
    "\n",
    "  model[0].eval()\n",
    "\n",
    "  with torch.no_grad():\n",
    "          for samples in tqdm(test_dataloader, ncols=80, desc=\" Test \"):\n",
    "\n",
    "              inputs = samples['image']\n",
    "              targets = samples['label']\n",
    "              ids = samples['Id'].numpy()\n",
    "              \n",
    "              inputs = inputs.to(device)\n",
    "              targets = targets.to(device)\n",
    "\n",
    "              # compute outputs\n",
    "              outputs = model[0](inputs)\n",
    "\n",
    "              outputs_np = outputs.cpu().detach().numpy()\n",
    "              targets_np = targets.cpu().detach().numpy()\n",
    "          \n",
    "              # compute the predictions\n",
    "              pred = np.argmax(outputs_np, axis=1)\n",
    "              \n",
    "              submission['target'][ids] = pred\n",
    "              \n",
    "  submission.to_csv(os.path.join(img_path,'submission_2{:s}.csv'.format(tag)), index=False)\n",
    "\n",
    "  print(submission.head(20))"
   ]
  },
  {
   "cell_type": "code",
   "execution_count": null,
   "metadata": {
    "id": "v-1ikwdDAd8c"
   },
   "outputs": [],
   "source": [
    "# Verify that all classes are predicted\n",
    "print(np.unique(submission['target'].to_numpy()))"
   ]
  }
 ],
 "metadata": {
  "accelerator": "GPU",
  "colab": {
   "collapsed_sections": [],
   "name": "data-reader-colab.ipynb",
   "provenance": [
    {
     "file_id": "1F36nKR1FxSSHe-ll_UtCnvXDRhbXiobG",
     "timestamp": 1644856948949
    }
   ]
  },
  "kernelspec": {
   "display_name": "Python 3",
   "language": "python",
   "name": "python3"
  },
  "language_info": {
   "codemirror_mode": {
    "name": "ipython",
    "version": 3
   },
   "file_extension": ".py",
   "mimetype": "text/x-python",
   "name": "python",
   "nbconvert_exporter": "python",
   "pygments_lexer": "ipython3",
   "version": "3.7.12"
  },
  "widgets": {
   "application/vnd.jupyter.widget-state+json": {
    "248d4257d2a7495880b68ccd03926664": {
     "model_module": "@jupyter-widgets/controls",
     "model_module_version": "1.5.0",
     "model_name": "HTMLModel",
     "state": {
      "_dom_classes": [],
      "_model_module": "@jupyter-widgets/controls",
      "_model_module_version": "1.5.0",
      "_model_name": "HTMLModel",
      "_view_count": null,
      "_view_module": "@jupyter-widgets/controls",
      "_view_module_version": "1.5.0",
      "_view_name": "HTMLView",
      "description": "",
      "description_tooltip": null,
      "layout": "IPY_MODEL_94656b3c5ff94ebe902e91bbd03b0561",
      "placeholder": "​",
      "style": "IPY_MODEL_59ff489d2cfb4f38a419e0ae9dee9c81",
      "value": " 97.8M/97.8M [00:02&lt;00:00, 40.2MB/s]"
     }
    },
    "35613c2c72fb4dbeac0c65e2c7feb640": {
     "model_module": "@jupyter-widgets/controls",
     "model_module_version": "1.5.0",
     "model_name": "ProgressStyleModel",
     "state": {
      "_model_module": "@jupyter-widgets/controls",
      "_model_module_version": "1.5.0",
      "_model_name": "ProgressStyleModel",
      "_view_count": null,
      "_view_module": "@jupyter-widgets/base",
      "_view_module_version": "1.2.0",
      "_view_name": "StyleView",
      "bar_color": null,
      "description_width": ""
     }
    },
    "59ff489d2cfb4f38a419e0ae9dee9c81": {
     "model_module": "@jupyter-widgets/controls",
     "model_module_version": "1.5.0",
     "model_name": "DescriptionStyleModel",
     "state": {
      "_model_module": "@jupyter-widgets/controls",
      "_model_module_version": "1.5.0",
      "_model_name": "DescriptionStyleModel",
      "_view_count": null,
      "_view_module": "@jupyter-widgets/base",
      "_view_module_version": "1.2.0",
      "_view_name": "StyleView",
      "description_width": ""
     }
    },
    "5b22471c299d4b59beffe898f0f66777": {
     "model_module": "@jupyter-widgets/base",
     "model_module_version": "1.2.0",
     "model_name": "LayoutModel",
     "state": {
      "_model_module": "@jupyter-widgets/base",
      "_model_module_version": "1.2.0",
      "_model_name": "LayoutModel",
      "_view_count": null,
      "_view_module": "@jupyter-widgets/base",
      "_view_module_version": "1.2.0",
      "_view_name": "LayoutView",
      "align_content": null,
      "align_items": null,
      "align_self": null,
      "border": null,
      "bottom": null,
      "display": null,
      "flex": null,
      "flex_flow": null,
      "grid_area": null,
      "grid_auto_columns": null,
      "grid_auto_flow": null,
      "grid_auto_rows": null,
      "grid_column": null,
      "grid_gap": null,
      "grid_row": null,
      "grid_template_areas": null,
      "grid_template_columns": null,
      "grid_template_rows": null,
      "height": null,
      "justify_content": null,
      "justify_items": null,
      "left": null,
      "margin": null,
      "max_height": null,
      "max_width": null,
      "min_height": null,
      "min_width": null,
      "object_fit": null,
      "object_position": null,
      "order": null,
      "overflow": null,
      "overflow_x": null,
      "overflow_y": null,
      "padding": null,
      "right": null,
      "top": null,
      "visibility": null,
      "width": null
     }
    },
    "64586f9fbee6433bb483cbfb6ea333dc": {
     "model_module": "@jupyter-widgets/base",
     "model_module_version": "1.2.0",
     "model_name": "LayoutModel",
     "state": {
      "_model_module": "@jupyter-widgets/base",
      "_model_module_version": "1.2.0",
      "_model_name": "LayoutModel",
      "_view_count": null,
      "_view_module": "@jupyter-widgets/base",
      "_view_module_version": "1.2.0",
      "_view_name": "LayoutView",
      "align_content": null,
      "align_items": null,
      "align_self": null,
      "border": null,
      "bottom": null,
      "display": null,
      "flex": null,
      "flex_flow": null,
      "grid_area": null,
      "grid_auto_columns": null,
      "grid_auto_flow": null,
      "grid_auto_rows": null,
      "grid_column": null,
      "grid_gap": null,
      "grid_row": null,
      "grid_template_areas": null,
      "grid_template_columns": null,
      "grid_template_rows": null,
      "height": null,
      "justify_content": null,
      "justify_items": null,
      "left": null,
      "margin": null,
      "max_height": null,
      "max_width": null,
      "min_height": null,
      "min_width": null,
      "object_fit": null,
      "object_position": null,
      "order": null,
      "overflow": null,
      "overflow_x": null,
      "overflow_y": null,
      "padding": null,
      "right": null,
      "top": null,
      "visibility": null,
      "width": null
     }
    },
    "82472ceee2ab46bbba2fd95829ed23f6": {
     "model_module": "@jupyter-widgets/controls",
     "model_module_version": "1.5.0",
     "model_name": "HBoxModel",
     "state": {
      "_dom_classes": [],
      "_model_module": "@jupyter-widgets/controls",
      "_model_module_version": "1.5.0",
      "_model_name": "HBoxModel",
      "_view_count": null,
      "_view_module": "@jupyter-widgets/controls",
      "_view_module_version": "1.5.0",
      "_view_name": "HBoxView",
      "box_style": "",
      "children": [
       "IPY_MODEL_d5cebbb3ded94ec7ab37217ca575e437",
       "IPY_MODEL_8bf598d486f14f46a2814209c1837974",
       "IPY_MODEL_248d4257d2a7495880b68ccd03926664"
      ],
      "layout": "IPY_MODEL_5b22471c299d4b59beffe898f0f66777"
     }
    },
    "8bf598d486f14f46a2814209c1837974": {
     "model_module": "@jupyter-widgets/controls",
     "model_module_version": "1.5.0",
     "model_name": "FloatProgressModel",
     "state": {
      "_dom_classes": [],
      "_model_module": "@jupyter-widgets/controls",
      "_model_module_version": "1.5.0",
      "_model_name": "FloatProgressModel",
      "_view_count": null,
      "_view_module": "@jupyter-widgets/controls",
      "_view_module_version": "1.5.0",
      "_view_name": "ProgressView",
      "bar_style": "success",
      "description": "",
      "description_tooltip": null,
      "layout": "IPY_MODEL_f8e9598fd8cb4bf5b96bcdf5bb3f6632",
      "max": 102530333,
      "min": 0,
      "orientation": "horizontal",
      "style": "IPY_MODEL_35613c2c72fb4dbeac0c65e2c7feb640",
      "value": 102530333
     }
    },
    "94656b3c5ff94ebe902e91bbd03b0561": {
     "model_module": "@jupyter-widgets/base",
     "model_module_version": "1.2.0",
     "model_name": "LayoutModel",
     "state": {
      "_model_module": "@jupyter-widgets/base",
      "_model_module_version": "1.2.0",
      "_model_name": "LayoutModel",
      "_view_count": null,
      "_view_module": "@jupyter-widgets/base",
      "_view_module_version": "1.2.0",
      "_view_name": "LayoutView",
      "align_content": null,
      "align_items": null,
      "align_self": null,
      "border": null,
      "bottom": null,
      "display": null,
      "flex": null,
      "flex_flow": null,
      "grid_area": null,
      "grid_auto_columns": null,
      "grid_auto_flow": null,
      "grid_auto_rows": null,
      "grid_column": null,
      "grid_gap": null,
      "grid_row": null,
      "grid_template_areas": null,
      "grid_template_columns": null,
      "grid_template_rows": null,
      "height": null,
      "justify_content": null,
      "justify_items": null,
      "left": null,
      "margin": null,
      "max_height": null,
      "max_width": null,
      "min_height": null,
      "min_width": null,
      "object_fit": null,
      "object_position": null,
      "order": null,
      "overflow": null,
      "overflow_x": null,
      "overflow_y": null,
      "padding": null,
      "right": null,
      "top": null,
      "visibility": null,
      "width": null
     }
    },
    "ada8f8d33aff4df3acb93bc800c986cd": {
     "model_module": "@jupyter-widgets/controls",
     "model_module_version": "1.5.0",
     "model_name": "DescriptionStyleModel",
     "state": {
      "_model_module": "@jupyter-widgets/controls",
      "_model_module_version": "1.5.0",
      "_model_name": "DescriptionStyleModel",
      "_view_count": null,
      "_view_module": "@jupyter-widgets/base",
      "_view_module_version": "1.2.0",
      "_view_name": "StyleView",
      "description_width": ""
     }
    },
    "d5cebbb3ded94ec7ab37217ca575e437": {
     "model_module": "@jupyter-widgets/controls",
     "model_module_version": "1.5.0",
     "model_name": "HTMLModel",
     "state": {
      "_dom_classes": [],
      "_model_module": "@jupyter-widgets/controls",
      "_model_module_version": "1.5.0",
      "_model_name": "HTMLModel",
      "_view_count": null,
      "_view_module": "@jupyter-widgets/controls",
      "_view_module_version": "1.5.0",
      "_view_name": "HTMLView",
      "description": "",
      "description_tooltip": null,
      "layout": "IPY_MODEL_64586f9fbee6433bb483cbfb6ea333dc",
      "placeholder": "​",
      "style": "IPY_MODEL_ada8f8d33aff4df3acb93bc800c986cd",
      "value": "100%"
     }
    },
    "f8e9598fd8cb4bf5b96bcdf5bb3f6632": {
     "model_module": "@jupyter-widgets/base",
     "model_module_version": "1.2.0",
     "model_name": "LayoutModel",
     "state": {
      "_model_module": "@jupyter-widgets/base",
      "_model_module_version": "1.2.0",
      "_model_name": "LayoutModel",
      "_view_count": null,
      "_view_module": "@jupyter-widgets/base",
      "_view_module_version": "1.2.0",
      "_view_name": "LayoutView",
      "align_content": null,
      "align_items": null,
      "align_self": null,
      "border": null,
      "bottom": null,
      "display": null,
      "flex": null,
      "flex_flow": null,
      "grid_area": null,
      "grid_auto_columns": null,
      "grid_auto_flow": null,
      "grid_auto_rows": null,
      "grid_column": null,
      "grid_gap": null,
      "grid_row": null,
      "grid_template_areas": null,
      "grid_template_columns": null,
      "grid_template_rows": null,
      "height": null,
      "justify_content": null,
      "justify_items": null,
      "left": null,
      "margin": null,
      "max_height": null,
      "max_width": null,
      "min_height": null,
      "min_width": null,
      "object_fit": null,
      "object_position": null,
      "order": null,
      "overflow": null,
      "overflow_x": null,
      "overflow_y": null,
      "padding": null,
      "right": null,
      "top": null,
      "visibility": null,
      "width": null
     }
    }
   }
  }
 },
 "nbformat": 4,
 "nbformat_minor": 0
}
